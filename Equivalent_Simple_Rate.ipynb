{
 "cells": [
  {
   "cell_type": "code",
   "execution_count": 1,
   "metadata": {},
   "outputs": [
    {
     "data": {
      "application/javascript": [
       "\n",
       "            setTimeout(function() {\n",
       "                var nbb_cell_id = 1;\n",
       "                var nbb_formatted_code = \"%load_ext nb_black\";\n",
       "                var nbb_cells = Jupyter.notebook.get_cells();\n",
       "                for (var i = 0; i < nbb_cells.length; ++i) {\n",
       "                    if (nbb_cells[i].input_prompt_number == nbb_cell_id) {\n",
       "                        nbb_cells[i].set_text(nbb_formatted_code);\n",
       "                        break;\n",
       "                    }\n",
       "                }\n",
       "            }, 500);\n",
       "            "
      ],
      "text/plain": [
       "<IPython.core.display.Javascript object>"
      ]
     },
     "metadata": {},
     "output_type": "display_data"
    }
   ],
   "source": [
    "%load_ext nb_black"
   ]
  },
  {
   "cell_type": "markdown",
   "metadata": {},
   "source": [
    "# Math behind the code\n",
    "## for recurring simple deposit\n",
    "### fv=(R+R*i*n) + (R+R*i*(n-1))+ (R+R*i*(n-2))+ .....+ (R+R*i*1)\n",
    "### fv=n*R+ iR ( n+(n-1)+(n-2)+.....+1)\n",
    "### fv=n*R+ iR * n(n+1)/2\n",
    "### fv= R {n+i* n(n+1)/2}\n",
    "## if Simple FV=Compound FV\n",
    "### R {n+i* n*(n+1)/2}=compound FV\n",
    "### i = (FV/R-n)/ ((n*(n+1)/2))"
   ]
  },
  {
   "cell_type": "code",
   "execution_count": 2,
   "metadata": {},
   "outputs": [
    {
     "data": {
      "application/javascript": [
       "\n",
       "            setTimeout(function() {\n",
       "                var nbb_cell_id = 2;\n",
       "                var nbb_formatted_code = \"# load the packages\\nimport numpy as np\\nimport pandas as pd\";\n",
       "                var nbb_cells = Jupyter.notebook.get_cells();\n",
       "                for (var i = 0; i < nbb_cells.length; ++i) {\n",
       "                    if (nbb_cells[i].input_prompt_number == nbb_cell_id) {\n",
       "                        nbb_cells[i].set_text(nbb_formatted_code);\n",
       "                        break;\n",
       "                    }\n",
       "                }\n",
       "            }, 500);\n",
       "            "
      ],
      "text/plain": [
       "<IPython.core.display.Javascript object>"
      ]
     },
     "metadata": {},
     "output_type": "display_data"
    }
   ],
   "source": [
    "# load the packages\n",
    "import numpy as np\n",
    "import pandas as pd"
   ]
  },
  {
   "cell_type": "code",
   "execution_count": 3,
   "metadata": {},
   "outputs": [
    {
     "data": {
      "application/javascript": [
       "\n",
       "            setTimeout(function() {\n",
       "                var nbb_cell_id = 3;\n",
       "                var nbb_formatted_code = \"def Simple_Rate(tenure, comp_interest, comp_freq, installment):\\n    # turn the tenure into months\\n    tenure_M = tenure * 12\\n    # comp int rate at each period\\n    ip = (1 + comp_interest / comp_freq) ** (comp_freq / 12) - 1\\n    # future value at compounding rate\\n    comp_fv = np.fv(rate=ip, nper=tenure_M, pmt=-installment, pv=0, when=1)\\n    # get the equivalent simple rate\\n    simple_rate = (\\n        (comp_fv / installment - tenure_M) / (tenure_M * (tenure_M + 1) / 2) * 12\\n    )\\n    return simple_rate\\n\\n\\ndef Summary_Tab(tenure, comp_interest, comp_freq, installment):\\n    equiv_rate = []\\n    # loop over the given comp rate and tenure for the equiv simple rate\\n    for i in range(len(comp_interest)):\\n        er = Simple_Rate(tenure[i], comp_interest[i], comp_freq, installment)\\n        equiv_rate.append(er)\\n    # generate the summary table\\n    summary_table = pd.DataFrame(\\n        {\\\"Tenure\\\": tenure, \\\"Comp_Int\\\": comp_interest, \\\"Simp_Int\\\": equiv_rate}\\n    )\\n    return summary_table\";\n",
       "                var nbb_cells = Jupyter.notebook.get_cells();\n",
       "                for (var i = 0; i < nbb_cells.length; ++i) {\n",
       "                    if (nbb_cells[i].input_prompt_number == nbb_cell_id) {\n",
       "                        nbb_cells[i].set_text(nbb_formatted_code);\n",
       "                        break;\n",
       "                    }\n",
       "                }\n",
       "            }, 500);\n",
       "            "
      ],
      "text/plain": [
       "<IPython.core.display.Javascript object>"
      ]
     },
     "metadata": {},
     "output_type": "display_data"
    }
   ],
   "source": [
    "def Simple_Rate(tenure, comp_interest, comp_freq, installment):\n",
    "    # turn the tenure into months\n",
    "    tenure_M = tenure * 12\n",
    "    # comp int rate at each period\n",
    "    ip = (1 + comp_interest / comp_freq) ** (comp_freq / 12) - 1\n",
    "    # future value at compounding rate\n",
    "    comp_fv = np.fv(rate=ip, nper=tenure_M, pmt=-installment, pv=0, when=1)\n",
    "    # get the equivalent simple rate\n",
    "    simple_rate = (\n",
    "        (comp_fv / installment - tenure_M) / (tenure_M * (tenure_M + 1) / 2) * 12\n",
    "    )\n",
    "    return simple_rate\n",
    "\n",
    "\n",
    "def Summary_Tab(tenure, comp_interest, comp_freq, installment):\n",
    "    equiv_rate = []\n",
    "    # loop over the given comp rate and tenure for the equiv simple rate\n",
    "    for i in range(len(comp_interest)):\n",
    "        er = Simple_Rate(tenure[i], comp_interest[i], comp_freq, installment)\n",
    "        equiv_rate.append(er)\n",
    "    # generate the summary table\n",
    "    summary_table = pd.DataFrame(\n",
    "        {\"Tenure\": tenure, \"Comp_Int\": comp_interest, \"Simp_Int\": equiv_rate}\n",
    "    )\n",
    "    return summary_table"
   ]
  },
  {
   "cell_type": "code",
   "execution_count": 4,
   "metadata": {},
   "outputs": [
    {
     "data": {
      "text/html": [
       "<div>\n",
       "<style scoped>\n",
       "    .dataframe tbody tr th:only-of-type {\n",
       "        vertical-align: middle;\n",
       "    }\n",
       "\n",
       "    .dataframe tbody tr th {\n",
       "        vertical-align: top;\n",
       "    }\n",
       "\n",
       "    .dataframe thead th {\n",
       "        text-align: right;\n",
       "    }\n",
       "</style>\n",
       "<table border=\"1\" class=\"dataframe\">\n",
       "  <thead>\n",
       "    <tr style=\"text-align: right;\">\n",
       "      <th></th>\n",
       "      <th>Tenure</th>\n",
       "      <th>Comp_Int</th>\n",
       "      <th>Simp_Int</th>\n",
       "    </tr>\n",
       "  </thead>\n",
       "  <tbody>\n",
       "    <tr>\n",
       "      <th>0</th>\n",
       "      <td>3</td>\n",
       "      <td>0.055</td>\n",
       "      <td>0.056569</td>\n",
       "    </tr>\n",
       "    <tr>\n",
       "      <th>1</th>\n",
       "      <td>5</td>\n",
       "      <td>0.060</td>\n",
       "      <td>0.064420</td>\n",
       "    </tr>\n",
       "    <tr>\n",
       "      <th>2</th>\n",
       "      <td>10</td>\n",
       "      <td>0.065</td>\n",
       "      <td>0.078644</td>\n",
       "    </tr>\n",
       "  </tbody>\n",
       "</table>\n",
       "</div>"
      ],
      "text/plain": [
       "   Tenure  Comp_Int  Simp_Int\n",
       "0       3     0.055  0.056569\n",
       "1       5     0.060  0.064420\n",
       "2      10     0.065  0.078644"
      ]
     },
     "execution_count": 4,
     "metadata": {},
     "output_type": "execute_result"
    },
    {
     "data": {
      "application/javascript": [
       "\n",
       "            setTimeout(function() {\n",
       "                var nbb_cell_id = 4;\n",
       "                var nbb_formatted_code = \"# now get the result\\ntenure = [3, 5, 10]\\ncomp_interest = [0.055, 0.06, 0.065]\\ninstallment = 25000\\ncomp_freq = 1\\n\\nSummary_Tab(tenure, comp_interest, comp_freq, installment)\";\n",
       "                var nbb_cells = Jupyter.notebook.get_cells();\n",
       "                for (var i = 0; i < nbb_cells.length; ++i) {\n",
       "                    if (nbb_cells[i].input_prompt_number == nbb_cell_id) {\n",
       "                        nbb_cells[i].set_text(nbb_formatted_code);\n",
       "                        break;\n",
       "                    }\n",
       "                }\n",
       "            }, 500);\n",
       "            "
      ],
      "text/plain": [
       "<IPython.core.display.Javascript object>"
      ]
     },
     "metadata": {},
     "output_type": "display_data"
    }
   ],
   "source": [
    "# now get the result\n",
    "tenure = [3, 5, 10]\n",
    "comp_interest = [0.055, 0.06, 0.065]\n",
    "installment = 25000\n",
    "comp_freq = 1\n",
    "\n",
    "Summary_Tab(tenure, comp_interest, comp_freq, installment)"
   ]
  }
 ],
 "metadata": {
  "kernelspec": {
   "display_name": "Python 3",
   "language": "python",
   "name": "python3"
  },
  "language_info": {
   "codemirror_mode": {
    "name": "ipython",
    "version": 3
   },
   "file_extension": ".py",
   "mimetype": "text/x-python",
   "name": "python",
   "nbconvert_exporter": "python",
   "pygments_lexer": "ipython3",
   "version": "3.7.3"
  }
 },
 "nbformat": 4,
 "nbformat_minor": 1
}
