{
 "cells": [
  {
   "cell_type": "code",
   "execution_count": 1,
   "metadata": {},
   "outputs": [
    {
     "data": {
      "application/javascript": [
       "\n",
       "            setTimeout(function() {\n",
       "                var nbb_cell_id = 1;\n",
       "                var nbb_formatted_code = \"%load_ext nb_black\";\n",
       "                var nbb_cells = Jupyter.notebook.get_cells();\n",
       "                for (var i = 0; i < nbb_cells.length; ++i) {\n",
       "                    if (nbb_cells[i].input_prompt_number == nbb_cell_id) {\n",
       "                        nbb_cells[i].set_text(nbb_formatted_code);\n",
       "                        break;\n",
       "                    }\n",
       "                }\n",
       "            }, 500);\n",
       "            "
      ],
      "text/plain": [
       "<IPython.core.display.Javascript object>"
      ]
     },
     "metadata": {},
     "output_type": "display_data"
    }
   ],
   "source": [
    "%load_ext nb_black"
   ]
  },
  {
   "cell_type": "markdown",
   "metadata": {},
   "source": [
    "# Math behind the code\n",
    "## for recurring simple deposit\n",
    "### fv=(R+Rin) + (R+Ri(n-1))+ (R+Ri(n-2))+ .....+ (R+Ri1)\n",
    "### fv=n*R+ iR ( n+(n-1)+(n-2)+.....+1)\n",
    "### fv=n*R+ iR * n(n+1)/2\n",
    "### fv= R {n+i* n(n+1)/2}\n",
    "## if Simple FV=Compound FV\n",
    "### R {n+i* n*(n+1)/2}=compound FV\n",
    "### i = (FV/R-n)/ ((n*(n+1)/2))"
   ]
  },
  {
   "cell_type": "code",
   "execution_count": 2,
   "metadata": {},
   "outputs": [
    {
     "data": {
      "application/javascript": [
       "\n",
       "            setTimeout(function() {\n",
       "                var nbb_cell_id = 2;\n",
       "                var nbb_formatted_code = \"# load the packages\\nimport pandas as pd\\nimport numpy as np\";\n",
       "                var nbb_cells = Jupyter.notebook.get_cells();\n",
       "                for (var i = 0; i < nbb_cells.length; ++i) {\n",
       "                    if (nbb_cells[i].input_prompt_number == nbb_cell_id) {\n",
       "                        nbb_cells[i].set_text(nbb_formatted_code);\n",
       "                        break;\n",
       "                    }\n",
       "                }\n",
       "            }, 500);\n",
       "            "
      ],
      "text/plain": [
       "<IPython.core.display.Javascript object>"
      ]
     },
     "metadata": {},
     "output_type": "display_data"
    }
   ],
   "source": [
    "# load the packages\n",
    "import pandas as pd\n",
    "import numpy as np"
   ]
  },
  {
   "cell_type": "code",
   "execution_count": 3,
   "metadata": {},
   "outputs": [
    {
     "data": {
      "application/javascript": [
       "\n",
       "            setTimeout(function() {\n",
       "                var nbb_cell_id = 3;\n",
       "                var nbb_formatted_code = \"# set the parameters\\ntenure = [5, 10]\\ncomp_int = [0.06, 0.065]\\ncomp_freq = 1\\ninstallment = 25000\\nincrement = 0.000001\";\n",
       "                var nbb_cells = Jupyter.notebook.get_cells();\n",
       "                for (var i = 0; i < nbb_cells.length; ++i) {\n",
       "                    if (nbb_cells[i].input_prompt_number == nbb_cell_id) {\n",
       "                        nbb_cells[i].set_text(nbb_formatted_code);\n",
       "                        break;\n",
       "                    }\n",
       "                }\n",
       "            }, 500);\n",
       "            "
      ],
      "text/plain": [
       "<IPython.core.display.Javascript object>"
      ]
     },
     "metadata": {},
     "output_type": "display_data"
    }
   ],
   "source": [
    "# set the parameters\n",
    "tenure = [5, 10]\n",
    "comp_int = [0.06, 0.065]\n",
    "comp_freq = 1\n",
    "installment = 25000\n",
    "increment = 0.000001"
   ]
  },
  {
   "cell_type": "code",
   "execution_count": 4,
   "metadata": {},
   "outputs": [
    {
     "data": {
      "application/javascript": [
       "\n",
       "            setTimeout(function() {\n",
       "                var nbb_cell_id = 4;\n",
       "                var nbb_formatted_code = \"def equivalent_rate(tenure, comp_int, comp_freq, installment, increment):\\n    future_val_comp = []\\n    future_val_simp = []\\n    equivalent_int = []\\n    for j in range(len(tenure)):\\n\\n        # calculate the interest per payment (it varies based on frequency of payment and compounding freq)\\n        int_per_payment = (1 + comp_int[j] / comp_freq) ** (comp_freq / 12) - 1\\n\\n        # get the compound interest rate future value\\n        future_val = np.fv(\\n            rate=int_per_payment, pv=0, pmt=-installment, nper=tenure[j] * 12, when=1\\n        )\\n\\n        # get the list of fv for all the given compound int rate\\n        future_val_comp.append(future_val)\\n\\n        # empty (almost) list of gap between simple fv and comp fv\\n        gap_list = [future_val]\\n\\n        # get the first simple int rate to be tried with the set increment\\n        int_try = comp_int[j] + increment\\n\\n        # get the fv for the above rate\\n        fvsx = installment * (\\n            (\\n                tenure[j] * 12\\n                + (int_try) / 12 * (tenure[j] * 12) * (tenure[j] * 12 + 1) / 2\\n            )\\n        )\\n\\n        # calc the gap between comp fv and simple fv\\n        gap = np.absolute(fvsx - future_val)\\n\\n        # append the list\\n        gap_list.append(gap)\\n\\n        # as long as the gap is smaller for the simple rate fv than for the immediate previous one\\n        # increase the rate with increment and keep checking the gap\\n        while gap_list[-1] < gap_list[-2]:\\n            int_try = int_try + increment\\n            fvsx = installment * (\\n                (\\n                    tenure[j] * 12\\n                    + int_try / 12 * (tenure[j] * 12) * (tenure[j] * 12 + 1) / 2\\n                )\\n            )\\n\\n            gap = np.absolute(fvsx - future_val)\\n            gap_list.append(gap)\\n\\n        # the last future value and int rate are the optimum fv and simple rate\\n        future_val_simp.append(fvsx)\\n        equivalent_int.append(int_try)\\n\\n    # now get the summary table\\n    sum_tab = pd.DataFrame(\\n        {\\n            \\\"Comp_Rate\\\": comp_int,\\n            \\\"Simple_Rate\\\": equivalent_int,\\n            \\\"Future_Val_Comp\\\": future_val_comp,\\n            \\\"Future_Val_Simp\\\": future_val_simp,\\n        }\\n    )\\n\\n    return sum_tab\";\n",
       "                var nbb_cells = Jupyter.notebook.get_cells();\n",
       "                for (var i = 0; i < nbb_cells.length; ++i) {\n",
       "                    if (nbb_cells[i].input_prompt_number == nbb_cell_id) {\n",
       "                        nbb_cells[i].set_text(nbb_formatted_code);\n",
       "                        break;\n",
       "                    }\n",
       "                }\n",
       "            }, 500);\n",
       "            "
      ],
      "text/plain": [
       "<IPython.core.display.Javascript object>"
      ]
     },
     "metadata": {},
     "output_type": "display_data"
    }
   ],
   "source": [
    "def equivalent_rate(tenure, comp_int, comp_freq, installment, increment):\n",
    "    future_val_comp = []\n",
    "    future_val_simp = []\n",
    "    equivalent_int = []\n",
    "    for j in range(len(tenure)):\n",
    "\n",
    "        # calculate the interest per payment (it varies based on frequency of payment and compounding freq)\n",
    "        int_per_payment = (1 + comp_int[j] / comp_freq) ** (comp_freq / 12) - 1\n",
    "\n",
    "        # get the compound interest rate future value\n",
    "        future_val = np.fv(\n",
    "            rate=int_per_payment, pv=0, pmt=-installment, nper=tenure[j] * 12, when=1\n",
    "        )\n",
    "\n",
    "        # get the list of fv for all the given compound int rate\n",
    "        future_val_comp.append(future_val)\n",
    "\n",
    "        # empty (almost) list of gap between simple fv and comp fv\n",
    "        gap_list = [future_val]\n",
    "\n",
    "        # get the first simple int rate to be tried with the set increment\n",
    "        int_try = comp_int[j] + increment\n",
    "\n",
    "        # get the fv for the above rate\n",
    "        fvsx = installment * (\n",
    "            (\n",
    "                tenure[j] * 12\n",
    "                + (int_try) / 12 * (tenure[j] * 12) * (tenure[j] * 12 + 1) / 2\n",
    "            )\n",
    "        )\n",
    "\n",
    "        # calc the gap between comp fv and simple fv\n",
    "        gap = np.absolute(fvsx - future_val)\n",
    "\n",
    "        # append the list\n",
    "        gap_list.append(gap)\n",
    "\n",
    "        # as long as the gap is smaller for the simple rate fv than for the immediate previous one\n",
    "        # increase the rate with increment and keep checking the gap\n",
    "        while gap_list[-1] < gap_list[-2]:\n",
    "            int_try = int_try + increment\n",
    "            fvsx = installment * (\n",
    "                (\n",
    "                    tenure[j] * 12\n",
    "                    + int_try / 12 * (tenure[j] * 12) * (tenure[j] * 12 + 1) / 2\n",
    "                )\n",
    "            )\n",
    "            # get the gap for the current rate and append to the list\n",
    "            gap = np.absolute(fvsx - future_val)\n",
    "            gap_list.append(gap)\n",
    "\n",
    "        # the last future value and int rate are the optimum fv and simple rate\n",
    "        future_val_simp.append(fvsx)\n",
    "        equivalent_int.append(int_try)\n",
    "\n",
    "    # now get the summary table\n",
    "    sum_tab = pd.DataFrame(\n",
    "        {\n",
    "            \"Comp_Rate\": comp_int,\n",
    "            \"Simple_Rate\": equivalent_int,\n",
    "            \"Future_Val_Comp\": future_val_comp,\n",
    "            \"Future_Val_Simp\": future_val_simp,\n",
    "        }\n",
    "    )\n",
    "\n",
    "    return sum_tab"
   ]
  },
  {
   "cell_type": "code",
   "execution_count": 5,
   "metadata": {},
   "outputs": [
    {
     "data": {
      "text/html": [
       "<div>\n",
       "<style scoped>\n",
       "    .dataframe tbody tr th:only-of-type {\n",
       "        vertical-align: middle;\n",
       "    }\n",
       "\n",
       "    .dataframe tbody tr th {\n",
       "        vertical-align: top;\n",
       "    }\n",
       "\n",
       "    .dataframe thead th {\n",
       "        text-align: right;\n",
       "    }\n",
       "</style>\n",
       "<table border=\"1\" class=\"dataframe\">\n",
       "  <thead>\n",
       "    <tr style=\"text-align: right;\">\n",
       "      <th></th>\n",
       "      <th>Comp_Rate</th>\n",
       "      <th>Simple_Rate</th>\n",
       "      <th>Future_Val_Comp</th>\n",
       "      <th>Future_Val_Simp</th>\n",
       "    </tr>\n",
       "  </thead>\n",
       "  <tbody>\n",
       "    <tr>\n",
       "      <th>0</th>\n",
       "      <td>0.060</td>\n",
       "      <td>0.064421</td>\n",
       "      <td>1.745600e+06</td>\n",
       "      <td>1.745605e+06</td>\n",
       "    </tr>\n",
       "    <tr>\n",
       "      <th>1</th>\n",
       "      <td>0.065</td>\n",
       "      <td>0.078645</td>\n",
       "      <td>4.189490e+06</td>\n",
       "      <td>4.189506e+06</td>\n",
       "    </tr>\n",
       "  </tbody>\n",
       "</table>\n",
       "</div>"
      ],
      "text/plain": [
       "   Comp_Rate  Simple_Rate  Future_Val_Comp  Future_Val_Simp\n",
       "0      0.060     0.064421     1.745600e+06     1.745605e+06\n",
       "1      0.065     0.078645     4.189490e+06     4.189506e+06"
      ]
     },
     "execution_count": 5,
     "metadata": {},
     "output_type": "execute_result"
    },
    {
     "data": {
      "application/javascript": [
       "\n",
       "            setTimeout(function() {\n",
       "                var nbb_cell_id = 5;\n",
       "                var nbb_formatted_code = \"equivalent_rate(tenure, comp_int, comp_freq, installment, increment)\";\n",
       "                var nbb_cells = Jupyter.notebook.get_cells();\n",
       "                for (var i = 0; i < nbb_cells.length; ++i) {\n",
       "                    if (nbb_cells[i].input_prompt_number == nbb_cell_id) {\n",
       "                        nbb_cells[i].set_text(nbb_formatted_code);\n",
       "                        break;\n",
       "                    }\n",
       "                }\n",
       "            }, 500);\n",
       "            "
      ],
      "text/plain": [
       "<IPython.core.display.Javascript object>"
      ]
     },
     "metadata": {},
     "output_type": "display_data"
    }
   ],
   "source": [
    "equivalent_rate(tenure, comp_int, comp_freq, installment, increment)"
   ]
  }
 ],
 "metadata": {
  "kernelspec": {
   "display_name": "Python 3",
   "language": "python",
   "name": "python3"
  },
  "language_info": {
   "codemirror_mode": {
    "name": "ipython",
    "version": 3
   },
   "file_extension": ".py",
   "mimetype": "text/x-python",
   "name": "python",
   "nbconvert_exporter": "python",
   "pygments_lexer": "ipython3",
   "version": "3.7.3"
  }
 },
 "nbformat": 4,
 "nbformat_minor": 2
}
