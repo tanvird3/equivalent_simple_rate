{
 "cells": [
  {
   "cell_type": "code",
   "execution_count": 1,
   "metadata": {},
   "outputs": [
    {
     "data": {
      "application/javascript": [
       "\n",
       "            setTimeout(function() {\n",
       "                var nbb_cell_id = 1;\n",
       "                var nbb_formatted_code = \"%load_ext nb_black\";\n",
       "                var nbb_cells = Jupyter.notebook.get_cells();\n",
       "                for (var i = 0; i < nbb_cells.length; ++i) {\n",
       "                    if (nbb_cells[i].input_prompt_number == nbb_cell_id) {\n",
       "                        nbb_cells[i].set_text(nbb_formatted_code);\n",
       "                        break;\n",
       "                    }\n",
       "                }\n",
       "            }, 500);\n",
       "            "
      ],
      "text/plain": [
       "<IPython.core.display.Javascript object>"
      ]
     },
     "metadata": {},
     "output_type": "display_data"
    }
   ],
   "source": [
    "%load_ext nb_black"
   ]
  },
  {
   "cell_type": "markdown",
   "metadata": {},
   "source": [
    "# Math behind the code\n",
    "## for recurring simple deposit\n",
    "### fv=(R+Rin) + (R+Ri(n-1))+ (R+Ri(n-2))+ .....+ (R+Ri1)\n",
    "### fv=n*R+ iR ( n+(n-1)+(n-2)+.....+1)\n",
    "### fv=n*R+ iR * n(n+1)/2\n",
    "### fv= R {n+i* n(n+1)/2}\n",
    "## if Simple FV=Compound FV\n",
    "### R {n+i* n*(n+1)/2}=compound FV\n",
    "### i = (FV/R-n)/ ((n*(n+1)/2))"
   ]
  },
  {
   "cell_type": "code",
   "execution_count": 2,
   "metadata": {},
   "outputs": [
    {
     "data": {
      "application/javascript": [
       "\n",
       "            setTimeout(function() {\n",
       "                var nbb_cell_id = 2;\n",
       "                var nbb_formatted_code = \"# load the packages\\nimport pandas as pd\\nimport numpy as np\";\n",
       "                var nbb_cells = Jupyter.notebook.get_cells();\n",
       "                for (var i = 0; i < nbb_cells.length; ++i) {\n",
       "                    if (nbb_cells[i].input_prompt_number == nbb_cell_id) {\n",
       "                        nbb_cells[i].set_text(nbb_formatted_code);\n",
       "                        break;\n",
       "                    }\n",
       "                }\n",
       "            }, 500);\n",
       "            "
      ],
      "text/plain": [
       "<IPython.core.display.Javascript object>"
      ]
     },
     "metadata": {},
     "output_type": "display_data"
    }
   ],
   "source": [
    "# load the packages\n",
    "import pandas as pd\n",
    "import numpy as np"
   ]
  },
  {
   "cell_type": "code",
   "execution_count": 3,
   "metadata": {},
   "outputs": [
    {
     "data": {
      "application/javascript": [
       "\n",
       "            setTimeout(function() {\n",
       "                var nbb_cell_id = 3;\n",
       "                var nbb_formatted_code = \"# set the parameters\\ntenure = [5, 10]\\ncomp_int = [0.06, 0.065]\\ncomp_freq = 1\\ninstallment = 25000\";\n",
       "                var nbb_cells = Jupyter.notebook.get_cells();\n",
       "                for (var i = 0; i < nbb_cells.length; ++i) {\n",
       "                    if (nbb_cells[i].input_prompt_number == nbb_cell_id) {\n",
       "                        nbb_cells[i].set_text(nbb_formatted_code);\n",
       "                        break;\n",
       "                    }\n",
       "                }\n",
       "            }, 500);\n",
       "            "
      ],
      "text/plain": [
       "<IPython.core.display.Javascript object>"
      ]
     },
     "metadata": {},
     "output_type": "display_data"
    }
   ],
   "source": [
    "# set the parameters\n",
    "tenure = [5, 10]\n",
    "comp_int = [0.06, 0.065]\n",
    "comp_freq = 1\n",
    "installment = 25000"
   ]
  },
  {
   "cell_type": "code",
   "execution_count": 4,
   "metadata": {},
   "outputs": [
    {
     "data": {
      "application/javascript": [
       "\n",
       "            setTimeout(function() {\n",
       "                var nbb_cell_id = 4;\n",
       "                var nbb_formatted_code = \"def equivalent_rate(tenure, comp_int, comp_freq, installment):\\n    future_val_comp = []\\n    future_val_simp = []\\n    equivalent_int = []\\n    for j in range(len(tenure)):\\n\\n        # set the range of interest rate to simulate over\\n        int_try = np.arange(comp_int[j], comp_int[j] + 0.15, 0.000001).tolist()\\n        int_per_payment = (1 + comp_int[j] / comp_freq) ** (comp_freq / 12) - 1\\n\\n        # get the compound interest rate future value\\n        future_val = np.fv(\\n            rate=int_per_payment, pv=0, pmt=-installment, nper=tenure[j] * 12, when=1\\n        )\\n        # get the list of fv for all the given compound int rate\\n        future_val_comp.append(future_val)\\n        fvs = []\\n\\n        # now loop over the list of simple interest rates\\n        for i in range(len(int_try)):\\n            # get the future values of the simple interest rates\\n            fvsx = installment * (\\n                (\\n                    tenure[j] * 12\\n                    + int_try[i] / 12 * (tenure[j] * 12) * (tenure[j] * 12 + 1) / 2\\n                )\\n            )\\n            # append all the future values of all the simple interest rates\\n            fvs.append(fvsx)\\n\\n        # check which simple interest rate gives the lowest difference of future values\\n        k = np.array(fvs) - future_val\\n        k = np.absolute(k)\\n        xx = np.where(k == min(k))[0][0]\\n        # get that future value and the target simple interest rate\\n        future_val_simp.append(fvs[xx])\\n        equivalent_int.append(int_try[xx])\\n\\n    # now get the summary table\\n    sum_tab = pd.DataFrame(\\n        {\\n            \\\"Comp_Rate\\\": comp_int,\\n            \\\"Simple_Rate\\\": equivalent_int,\\n            \\\"Future_Val_Comp\\\": future_val_comp,\\n            \\\"Future_Val_Simp\\\": future_val_simp,\\n        }\\n    )\\n\\n    return sum_tab\";\n",
       "                var nbb_cells = Jupyter.notebook.get_cells();\n",
       "                for (var i = 0; i < nbb_cells.length; ++i) {\n",
       "                    if (nbb_cells[i].input_prompt_number == nbb_cell_id) {\n",
       "                        nbb_cells[i].set_text(nbb_formatted_code);\n",
       "                        break;\n",
       "                    }\n",
       "                }\n",
       "            }, 500);\n",
       "            "
      ],
      "text/plain": [
       "<IPython.core.display.Javascript object>"
      ]
     },
     "metadata": {},
     "output_type": "display_data"
    }
   ],
   "source": [
    "def equivalent_rate(tenure, comp_int, comp_freq, installment):\n",
    "    future_val_comp = []\n",
    "    future_val_simp = []\n",
    "    equivalent_int = []\n",
    "    for j in range(len(tenure)):\n",
    "\n",
    "        # set the range of interest rate to simulate over\n",
    "        int_try = np.arange(comp_int[j], comp_int[j] + 0.15, 0.000001).tolist()\n",
    "        int_per_payment = (1 + comp_int[j] / comp_freq) ** (comp_freq / 12) - 1\n",
    "\n",
    "        # get the compound interest rate future value\n",
    "        future_val = np.fv(\n",
    "            rate=int_per_payment, pv=0, pmt=-installment, nper=tenure[j] * 12, when=1\n",
    "        )\n",
    "        # get the list of fv for all the given compound int rate\n",
    "        future_val_comp.append(future_val)\n",
    "        fvs = []\n",
    "\n",
    "        # now loop over the list of simple interest rates\n",
    "        for i in range(len(int_try)):\n",
    "            # get the future values of the simple interest rates\n",
    "            fvsx = installment * (\n",
    "                (\n",
    "                    tenure[j] * 12\n",
    "                    + int_try[i] / 12 * (tenure[j] * 12) * (tenure[j] * 12 + 1) / 2\n",
    "                )\n",
    "            )\n",
    "            # append all the future values of all the simple interest rates\n",
    "            fvs.append(fvsx)\n",
    "\n",
    "        # check which simple interest rate gives the lowest difference of future values\n",
    "        k = np.array(fvs) - future_val\n",
    "        k = np.absolute(k)\n",
    "        xx = np.where(k == min(k))[0][0]\n",
    "        # get that future value and the target simple interest rate\n",
    "        future_val_simp.append(fvs[xx])\n",
    "        equivalent_int.append(int_try[xx])\n",
    "\n",
    "    # now get the summary table\n",
    "    sum_tab = pd.DataFrame(\n",
    "        {\n",
    "            \"Comp_Rate\": comp_int,\n",
    "            \"Simple_Rate\": equivalent_int,\n",
    "            \"Future_Val_Comp\": future_val_comp,\n",
    "            \"Future_Val_Simp\": future_val_simp,\n",
    "        }\n",
    "    )\n",
    "\n",
    "    return sum_tab"
   ]
  },
  {
   "cell_type": "code",
   "execution_count": 5,
   "metadata": {},
   "outputs": [
    {
     "data": {
      "text/html": [
       "<div>\n",
       "<style scoped>\n",
       "    .dataframe tbody tr th:only-of-type {\n",
       "        vertical-align: middle;\n",
       "    }\n",
       "\n",
       "    .dataframe tbody tr th {\n",
       "        vertical-align: top;\n",
       "    }\n",
       "\n",
       "    .dataframe thead th {\n",
       "        text-align: right;\n",
       "    }\n",
       "</style>\n",
       "<table border=\"1\" class=\"dataframe\">\n",
       "  <thead>\n",
       "    <tr style=\"text-align: right;\">\n",
       "      <th></th>\n",
       "      <th>Comp_Rate</th>\n",
       "      <th>Simple_Rate</th>\n",
       "      <th>Future_Val_Comp</th>\n",
       "      <th>Future_Val_Simp</th>\n",
       "    </tr>\n",
       "  </thead>\n",
       "  <tbody>\n",
       "    <tr>\n",
       "      <th>0</th>\n",
       "      <td>0.060</td>\n",
       "      <td>0.064420</td>\n",
       "      <td>1.745600e+06</td>\n",
       "      <td>1745601.25</td>\n",
       "    </tr>\n",
       "    <tr>\n",
       "      <th>1</th>\n",
       "      <td>0.065</td>\n",
       "      <td>0.078644</td>\n",
       "      <td>4.189490e+06</td>\n",
       "      <td>4189490.50</td>\n",
       "    </tr>\n",
       "  </tbody>\n",
       "</table>\n",
       "</div>"
      ],
      "text/plain": [
       "   Comp_Rate  Simple_Rate  Future_Val_Comp  Future_Val_Simp\n",
       "0      0.060     0.064420     1.745600e+06       1745601.25\n",
       "1      0.065     0.078644     4.189490e+06       4189490.50"
      ]
     },
     "execution_count": 5,
     "metadata": {},
     "output_type": "execute_result"
    },
    {
     "data": {
      "application/javascript": [
       "\n",
       "            setTimeout(function() {\n",
       "                var nbb_cell_id = 5;\n",
       "                var nbb_formatted_code = \"equivalent_rate(tenure, comp_int, comp_freq, installment)\";\n",
       "                var nbb_cells = Jupyter.notebook.get_cells();\n",
       "                for (var i = 0; i < nbb_cells.length; ++i) {\n",
       "                    if (nbb_cells[i].input_prompt_number == nbb_cell_id) {\n",
       "                        nbb_cells[i].set_text(nbb_formatted_code);\n",
       "                        break;\n",
       "                    }\n",
       "                }\n",
       "            }, 500);\n",
       "            "
      ],
      "text/plain": [
       "<IPython.core.display.Javascript object>"
      ]
     },
     "metadata": {},
     "output_type": "display_data"
    }
   ],
   "source": [
    "equivalent_rate(tenure, comp_int, comp_freq, installment)"
   ]
  }
 ],
 "metadata": {
  "kernelspec": {
   "display_name": "Python 3",
   "language": "python",
   "name": "python3"
  },
  "language_info": {
   "codemirror_mode": {
    "name": "ipython",
    "version": 3
   },
   "file_extension": ".py",
   "mimetype": "text/x-python",
   "name": "python",
   "nbconvert_exporter": "python",
   "pygments_lexer": "ipython3",
   "version": "3.7.3"
  }
 },
 "nbformat": 4,
 "nbformat_minor": 1
}
